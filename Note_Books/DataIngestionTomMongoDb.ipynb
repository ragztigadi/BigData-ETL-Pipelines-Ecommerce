{
  "cells": [
    {
      "cell_type": "code",
      "execution_count": 1,
      "metadata": {
        "colab": {
          "base_uri": "https://localhost:8080/"
        },
        "id": "eGwOkSPUtDso",
        "outputId": "bd2b0f81-a3da-44e7-b06c-3c678f3d8b64"
      },
      "outputs": [
        {
          "name": "stdout",
          "output_type": "stream",
          "text": [
            "Collecting pymongo\n",
            "  Downloading pymongo-4.11.3-cp311-cp311-manylinux_2_17_x86_64.manylinux2014_x86_64.whl.metadata (22 kB)\n",
            "Collecting dnspython<3.0.0,>=1.16.0 (from pymongo)\n",
            "  Downloading dnspython-2.7.0-py3-none-any.whl.metadata (5.8 kB)\n",
            "Downloading pymongo-4.11.3-cp311-cp311-manylinux_2_17_x86_64.manylinux2014_x86_64.whl (1.4 MB)\n",
            "\u001b[2K   \u001b[90m━━━━━━━━━━━━━━━━━━━━━━━━━━━━━━━━━━━━━━━━\u001b[0m \u001b[32m1.4/1.4 MB\u001b[0m \u001b[31m22.1 MB/s\u001b[0m eta \u001b[36m0:00:00\u001b[0m\n",
            "\u001b[?25hDownloading dnspython-2.7.0-py3-none-any.whl (313 kB)\n",
            "\u001b[2K   \u001b[90m━━━━━━━━━━━━━━━━━━━━━━━━━━━━━━━━━━━━━━━━\u001b[0m \u001b[32m313.6/313.6 kB\u001b[0m \u001b[31m19.6 MB/s\u001b[0m eta \u001b[36m0:00:00\u001b[0m\n",
            "\u001b[?25hInstalling collected packages: dnspython, pymongo\n",
            "Successfully installed dnspython-2.7.0 pymongo-4.11.3\n"
          ]
        }
      ],
      "source": [
        "!pip install pymongo"
      ]
    },
    {
      "cell_type": "code",
      "execution_count": null,
      "metadata": {
        "id": "jBnCsilCtdQD"
      },
      "outputs": [],
      "source": [
        "# importing module\n",
        "from pymongo import MongoClient\n",
        "\n",
        "# importing module\n",
        "from pymongo import MongoClient\n",
        "\n",
        "hostname = os.getenv(\"HOSTNAME_MONGO\")\n",
        "database = os.getenv(\"DATABASE_MONGO\")\n",
        "port = os.getenv(\"PORT_MONGO\")\n",
        "username = os.getenv(\"USERNAME_MONGO\")\n",
        "password = os.getenv(\"PASSWORD_MONGO\")\n",
        "\n",
        "uri = \"mongodb://\" + username + \":\" + password + \"@\" + hostname + \":\" + port + \"/\" + database\n",
        "\n",
        "# Connect with the portnumber and host\n",
        "client = MongoClient(uri)\n",
        "\n",
        "# Access database\n",
        "mydatabase = client[database]\n"
      ]
    },
    {
      "cell_type": "code",
      "execution_count": null,
      "metadata": {
        "colab": {
          "base_uri": "https://localhost:8080/"
        },
        "id": "7a3fNJPFuEGQ",
        "outputId": "65156292-7f08-4da8-e42c-43c624da5263"
      },
      "outputs": [
        {
          "name": "stdout",
          "output_type": "stream",
          "text": [
            "Data uploaded to MongoDB successfully!\n"
          ]
        }
      ],
      "source": [
        "# prompt: read the product_category csv and create a collection and upload it to above mongoDB\n",
        "\n",
        "import pandas as pd\n",
        "from pymongo import MongoClient\n",
        "\n",
        "# Load the product_category CSV file into a pandas DataFrame\n",
        "try:\n",
        "  product_category_df = pd.read_csv(\"product_category_name_translation.csv\")\n",
        "except FileNotFoundError:\n",
        "  print(\"Error: 'product_category_name_translation.csv' not found.\")\n",
        "  exit() # Exit the script if the file is not found\n",
        "\n",
        "\n",
        "# MongoDB connection details (assuming these are already defined in your script)\n",
        "hostname = os.getenv(\"HOSTNAME_MONGO\")\n",
        "database = os.getenv(\"DATABASE_MONGO\")\n",
        "port = os.getenv(\"PORT_MONGO\")\n",
        "username = os.getenv(\"USERNAME_MONGO\")\n",
        "password = os.getenv(\"PASSWORD_MONGO\")\n",
        "\n",
        "uri = \"mongodb://\" + username + \":\" + password + \"@\" + hostname + \":\" + port + \"/\" + database\n",
        "\n",
        "try:\n",
        "    # Establish a connection to MongoDB\n",
        "    client = MongoClient(uri)\n",
        "    db = client[database]\n",
        "\n",
        "    # Select the collection (or create if it doesn't exist)\n",
        "    collection = db[\"product_categories\"]  # Choose a suitable name for your collection\n",
        "\n",
        "    # Convert the DataFrame to a list of dictionaries for insertion into MongoDB\n",
        "    data_to_insert = product_category_df.to_dict(orient=\"records\")\n",
        "\n",
        "    # Insert the data into the collection\n",
        "    collection.insert_many(data_to_insert)\n",
        "\n",
        "    print(\"Data uploaded to MongoDB successfully!\")\n",
        "\n",
        "except Exception as e:\n",
        "    print(f\"An error occurred: {e}\")\n",
        "\n",
        "finally:\n",
        "    # Close the MongoDB connection\n",
        "    if client:\n",
        "        client.close()"
      ]
    }
  ],
  "metadata": {
    "colab": {
      "provenance": []
    },
    "kernelspec": {
      "display_name": "Python 3",
      "name": "python3"
    },
    "language_info": {
      "name": "python"
    }
  },
  "nbformat": 4,
  "nbformat_minor": 0
}
